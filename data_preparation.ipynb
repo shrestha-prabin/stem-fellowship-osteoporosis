{
 "cells": [
  {
   "cell_type": "code",
   "execution_count": 41,
   "id": "00fdc0d9",
   "metadata": {},
   "outputs": [],
   "source": [
    "import pandas as pd\n"
   ]
  },
  {
   "cell_type": "code",
   "execution_count": null,
   "id": "c2e93dc6",
   "metadata": {},
   "outputs": [],
   "source": [
    "import glob\n",
    "path=r\"C:\\Users\\riche\\OneDrive\\Desktop\\stem-fellowship-osteoporosis\\final-data\"\n",
    "filenames=glob.glob(path+\"/*.csv\")\n",
    "dfs=[]\n",
    "for filename in filenames:\n",
    "    dfs.append(pd.read_csv(filename))\n",
    "\n",
    "df=pd.concat(dfs,ignore_index=True)"
   ]
  },
  {
   "cell_type": "code",
   "execution_count": 43,
   "id": "b9443e78",
   "metadata": {},
   "outputs": [
    {
     "data": {
      "text/plain": [
       "(488, 55)"
      ]
     },
     "execution_count": 43,
     "metadata": {},
     "output_type": "execute_result"
    }
   ],
   "source": [
    "df.shape"
   ]
  },
  {
   "cell_type": "code",
   "execution_count": 44,
   "id": "c2d11183",
   "metadata": {},
   "outputs": [
    {
     "name": "stdout",
     "output_type": "stream",
     "text": [
      "<class 'pandas.core.frame.DataFrame'>\n",
      "RangeIndex: 488 entries, 0 to 487\n",
      "Data columns (total 55 columns):\n",
      " #   Column                      Non-Null Count  Dtype  \n",
      "---  ------                      --------------  -----  \n",
      " 0   gender                      483 non-null    object \n",
      " 1   hipFracture                 488 non-null    object \n",
      " 2   spineFracture               488 non-null    object \n",
      " 3   otherAdultFracture          487 non-null    object \n",
      " 4   fractureAge                 291 non-null    float64\n",
      " 5   fracturedBones              313 non-null    object \n",
      " 6   priorDexaScan               488 non-null    object \n",
      " 7   lastDexaScanDetails         336 non-null    object \n",
      " 8   fragilityFractureAfter45    488 non-null    object \n",
      " 9   youngLowTraumaFracture      487 non-null    object \n",
      " 10  menopauseStatus             226 non-null    object \n",
      " 11  currentlyInMenopause        225 non-null    object \n",
      " 12  menopauseType               225 non-null    object \n",
      " 13  ovariesRemoved              217 non-null    object \n",
      " 14  ageAtMenopause              202 non-null    float64\n",
      " 15  premenopausalAmenorrhea     174 non-null    object \n",
      " 16  menopausalStage             220 non-null    object \n",
      " 17  parentHipFracture           466 non-null    object \n",
      " 18  familyHistoryOsteoporosis   487 non-null    object \n",
      " 19  familyHistoryHipFracture    487 non-null    object \n",
      " 20  currentSmoker               486 non-null    object \n",
      " 21  excessiveAlcoholIntake      486 non-null    object \n",
      " 22  historyOfFalls              486 non-null    object \n",
      " 23  everSmoked                  485 non-null    object \n",
      " 24  eatingDisorder              488 non-null    object \n",
      " 25  highCalciumDiet             486 non-null    object \n",
      " 26  calciumSupplements          485 non-null    object \n",
      " 27  vitaminDSupplements         485 non-null    object \n",
      " 28  longTermSteroids            486 non-null    object \n",
      " 29  takenEstrogen               216 non-null    object \n",
      " 30  osteoporosisMedications     488 non-null    object \n",
      " 31  ssriUse                     485 non-null    object \n",
      " 32  ppiUse                      487 non-null    object \n",
      " 33  glucocorticoidUse           486 non-null    object \n",
      " 34  hormoneTherapy              485 non-null    object \n",
      " 35  rheumatoidArthritis         488 non-null    object \n",
      " 36  primaryHyperparathyroidism  485 non-null    object \n",
      " 37  hyperthyroidism             488 non-null    object \n",
      " 38  delayedPuberty              488 non-null    object \n",
      " 39  crohnsOrCeliac              487 non-null    object \n",
      " 40  kidneyDiseaseOrDialysis     486 non-null    object \n",
      " 41  hivAids                     487 non-null    object \n",
      " 42  copd                        486 non-null    object \n",
      " 43  depression                  487 non-null    object \n",
      " 44  diabetes                    486 non-null    object \n",
      " 45  recentWeightLoss            487 non-null    object \n",
      " 46  recentHeightLoss            488 non-null    object \n",
      " 47  spineSurgery                488 non-null    object \n",
      " 48  hipSurgery                  488 non-null    object \n",
      " 49  gastricSurgery              487 non-null    object \n",
      " 50  currentlyPregnant           218 non-null    object \n",
      " 51  llm_data                    488 non-null    object \n",
      " 52  llm_prediction              488 non-null    object \n",
      " 53  input_weight                488 non-null    float64\n",
      " 54  total_weight                488 non-null    float64\n",
      "dtypes: float64(4), object(51)\n",
      "memory usage: 209.8+ KB\n"
     ]
    }
   ],
   "source": [
    "df.info()"
   ]
  },
  {
   "cell_type": "code",
   "execution_count": 51,
   "id": "a16aca7e",
   "metadata": {},
   "outputs": [
    {
     "data": {
      "image/png": "[encoded data removed]",
      "text/plain": [
       "<Figure size 640x480 with 1 Axes>"
      ]
     },
     "metadata": {},
     "output_type": "display_data"
    }
   ],
   "source": [
    "import seaborn as sns\n",
    "import matplotlib.pyplot as plt\n",
    "sns.countplot(data=df,x=df[\"priorDexaScan\"],hue=df[\"familyHistoryOsteoporosis\"],palette=[\"blue\",\"pink\"])\n",
    "plt.show()"
   ]
  },
  {
   "cell_type": "code",
   "execution_count": null,
   "id": "3a38b271",
   "metadata": {},
   "outputs": [],
   "source": [
    "               "
   ]
  },
  {
   "cell_type": "code",
   "execution_count": 47,
   "id": "7a2ea21e",
   "metadata": {},
   "outputs": [
    {
     "data": {
      "text/html": [
       "<div>\n",
       "<style scoped>\n",
       "    .dataframe tbody tr th:only-of-type {\n",
       "        vertical-align: middle;\n",
       "    }\n",
       "\n",
       "    .dataframe tbody tr th {\n",
       "        vertical-align: top;\n",
       "    }\n",
       "\n",
       "    .dataframe thead th {\n",
       "        text-align: right;\n",
       "    }\n",
       "</style>\n",
       "<table border=\"1\" class=\"dataframe\">\n",
       "  <thead>\n",
       "    <tr style=\"text-align: right;\">\n",
       "      <th></th>\n",
       "      <th>Expected</th>\n",
       "    </tr>\n",
       "    <tr>\n",
       "      <th>priorDexaScan</th>\n",
       "      <th></th>\n",
       "    </tr>\n",
       "  </thead>\n",
       "  <tbody>\n",
       "    <tr>\n",
       "      <th>Yes</th>\n",
       "      <td>65.98</td>\n",
       "    </tr>\n",
       "    <tr>\n",
       "      <th>No</th>\n",
       "      <td>34.02</td>\n",
       "    </tr>\n",
       "  </tbody>\n",
       "</table>\n",
       "</div>"
      ],
      "text/plain": [
       "               Expected\n",
       "priorDexaScan          \n",
       "Yes               65.98\n",
       "No                34.02"
      ]
     },
     "execution_count": 47,
     "metadata": {},
     "output_type": "execute_result"
    }
   ],
   "source": [
    "# Get ratio instead of raw numbers using normalize=True\n",
    "expected_ratio = df['priorDexaScan'].value_counts(normalize=True)\n",
    "\n",
    "\n",
    "# Round and then convert to percentage\n",
    "expected_ratio = expected_ratio.round(4)*100\n",
    "\n",
    "\n",
    "\n",
    "df_ratios = pd.DataFrame({'Expected':expected_ratio})\n",
    "df_ratios"
   ]
  },
  {
   "cell_type": "code",
   "execution_count": 48,
   "id": "4fc7fd97",
   "metadata": {},
   "outputs": [
    {
     "name": "stderr",
     "output_type": "stream",
     "text": [
      "C:\\Users\\riche\\AppData\\Local\\Temp\\ipykernel_9908\\80151105.py:5: DeprecationWarning: DataFrameGroupBy.apply operated on the grouping columns. This behavior is deprecated, and in a future version of pandas the grouping columns will be excluded from the operation. Either pass `include_groups=False` to exclude the groupings or explicitly select the grouping columns after groupby to silence this warning.\n",
      "  stratified_upsample = df.groupby(\"priorDexaScan\", group_keys=False).apply(\n"
     ]
    }
   ],
   "source": [
    "# Define the upsampling factor (e.g., double the size)\n",
    "upsample_factor = 10\n",
    "\n",
    "# Stratified upsampling\n",
    "stratified_upsample = df.groupby(\"priorDexaScan\", group_keys=False).apply(\n",
    "    lambda x: x.sample(n=len(x) * upsample_factor, replace=True, random_state=42)\n",
    ")\n"
   ]
  },
  {
   "cell_type": "code",
   "execution_count": 49,
   "id": "9eb37dcd",
   "metadata": {},
   "outputs": [
    {
     "data": {
      "text/plain": [
       "(4880, 55)"
      ]
     },
     "execution_count": 49,
     "metadata": {},
     "output_type": "execute_result"
    }
   ],
   "source": [
    "stratified_upsample.shape"
   ]
  },
  {
   "cell_type": "code",
   "execution_count": 57,
   "id": "ac390bef",
   "metadata": {},
   "outputs": [
    {
     "data": {
      "text/plain": [
       "<Axes: xlabel='priorDexaScan', ylabel='count'>"
      ]
     },
     "execution_count": 57,
     "metadata": {},
     "output_type": "execute_result"
    },
    {
     "data": {
      "image/png": "[encoded data removed]",
      "text/plain": [
       "<Figure size 640x480 with 1 Axes>"
      ]
     },
     "metadata": {},
     "output_type": "display_data"
    }
   ],
   "source": [
    "class_count=stratified_upsample[\"priorDexaScan\"].value_counts()\n",
    "sns.barplot(class_count)"
   ]
  },
  {
   "cell_type": "code",
   "execution_count": null,
   "id": "42277651",
   "metadata": {},
   "outputs": [],
   "source": []
  }
 ],
 "metadata": {
  "kernelspec": {
   "display_name": "venv",
   "language": "python",
   "name": "python3"
  },
  "language_info": {
   "codemirror_mode": {
    "name": "ipython",
    "version": 3
   },
   "file_extension": ".py",
   "mimetype": "text/x-python",
   "name": "python",
   "nbconvert_exporter": "python",
   "pygments_lexer": "ipython3",
   "version": "3.12.10"
  }
 },
 "nbformat": 4,
 "nbformat_minor": 5
}
